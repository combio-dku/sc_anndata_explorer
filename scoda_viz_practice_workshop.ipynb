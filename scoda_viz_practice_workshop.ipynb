{
 "cells": [
  {
   "cell_type": "markdown",
   "id": "268afa5e-6f07-4365-bfe1-52c4e1334876",
   "metadata": {},
   "source": [
    "## <font color=blue> __SCODA를 이용한 단일세포 RNA-seq 데이터분석 실습__ </font>\n",
    "##### 2024년 3월 22일 (금) 13:00~16:00\n",
    "##### __(주) 엠엘비아이랩__ https://mlbi-lab.com"
   ]
  },
  {
   "cell_type": "code",
   "execution_count": null,
   "id": "d6919afc-1de4-490c-8f67-d8b352554b51",
   "metadata": {},
   "outputs": [],
   "source": []
  },
  {
   "cell_type": "markdown",
   "id": "0b534413-b5e8-4822-b8d4-8d33f209b514",
   "metadata": {},
   "source": [
    "### <font color=blue> __파이썬 기초 (댜양한 데이터 구조)__\n",
    "\n",
    "1. 변수의 생성과 기본 연산\n",
    "    -  numeric 데이터 - operators: +, -, *, /, **, .. ; np.log(), np.sqrt(), ....\n",
    "    -  bool형 데이터\n",
    "    -  __string__ 데이터 - operators: +, in, ..; methods: split(), strip(), replace(), ...\n",
    "2. 다양한 데이터 구조: \n",
    "    -  list - methods: append(), sort(), reverse(), insert(), remove(), pop() ...\n",
    "    -  set - methods: union(), intersection(), difference()\n",
    "    -  __dictionary__ - methods: keys(), values()\n",
    "    -  zip 내장함수의 활용:\n",
    "       -  두 list를 합쳐서 dictionary로 만들기 dict(zip(lst1, lst2)) \n",
    "3. numpy.array - 벡터/행렬 연산에 사용. 행/열의 번호로 indexing\n",
    "4. __pandas.DataFrame__ - 행렬과 유사하나 index 와 columns 이름으로 indexing\n",
    "5. (shallow) copy와 deepcopy\n",
    "6. 반복문 (for 문)\n",
    "    - iterable과 enumerate\n",
    "7. 조건문 \n",
    "\n",
    "2024.03.09 (주) 엠엘비아이랩"
   ]
  },
  {
   "cell_type": "markdown",
   "id": "5bcae6aa-dadf-4701-87cc-0db619d85fb0",
   "metadata": {},
   "source": [
    "##### __String__ 사용하기\n",
    "- 문장을 특정 문자(열)에서 나누기\n",
    "- 문장내 특정 문자열을 다른 문자열로 바꾸기"
   ]
  },
  {
   "cell_type": "code",
   "execution_count": null,
   "id": "0b1e3cec-ab00-4137-a1a4-933b0860aaa2",
   "metadata": {},
   "outputs": [],
   "source": [
    "s = '벡터/행렬 연산에 사용. 행/열의 번호로 indexing'\n",
    "len(s)"
   ]
  },
  {
   "cell_type": "code",
   "execution_count": null,
   "id": "bafb511d-4e49-4d22-8bc5-d32839b9305d",
   "metadata": {},
   "outputs": [],
   "source": [
    "s.split(' ')"
   ]
  },
  {
   "cell_type": "code",
   "execution_count": null,
   "id": "036e73df-d4f5-4d41-8178-cada07806c6b",
   "metadata": {},
   "outputs": [],
   "source": [
    "s.replace('사용', 'USE')"
   ]
  },
  {
   "cell_type": "markdown",
   "id": "ed62745e-de68-417c-80b3-e0147ea5aa4b",
   "metadata": {},
   "source": [
    "##### __dictionary__ 사용하기\n",
    "- dictionary 만들기\n",
    "- key와 value 확인하기\n",
    "- 두개 list로 dictionary 만들기"
   ]
  },
  {
   "cell_type": "code",
   "execution_count": null,
   "id": "391bbdc8-3596-4715-a178-515031b7e9a8",
   "metadata": {},
   "outputs": [],
   "source": [
    "x = {} ## 빈 dictionary 생성\n",
    "x['aa'] = 3\n",
    "x[5] = [1,2,3]\n",
    "x[(1,4)] = 'bbb'\n",
    "\n",
    "x.keys()"
   ]
  },
  {
   "cell_type": "code",
   "execution_count": null,
   "id": "ad757f31-77e7-4815-9612-fade2486b874",
   "metadata": {},
   "outputs": [],
   "source": [
    "x.values()"
   ]
  },
  {
   "cell_type": "code",
   "execution_count": null,
   "id": "b435a662-f3f5-410c-8d77-0d1082226e15",
   "metadata": {},
   "outputs": [],
   "source": [
    "lst1 = [1, 4, 'a', 'bbb']\n",
    "lst2 = ['aa', 5, [1,2], 57]\n",
    "x = dict(zip(lst1, lst2))\n",
    "x"
   ]
  },
  {
   "cell_type": "markdown",
   "id": "29b6063a-9848-4323-82a2-262f0de95354",
   "metadata": {},
   "source": [
    "### <font color=blue> __DataFrame 활용__\n",
    "1. head() method를 이용한 Data frame 확인: head(), tail()\n",
    "2. shape attribute를 이용한 size 확인: shape\n",
    "3. row name(index) 및 column name 확인\n",
    "4. index/column name을 이용한 행/열 가져오기: loc(), iloc()\n",
    "5. pandas series\n",
    "6. NA(None)이 포함된 element 확인하기: isnull()\n",
    "7. 행/열의 합/평균/표준편차 구하기: sum(), mean(), std()\n",
    "8. 행/열의 최대값/최소값/최대값의 index 구하기: max(), min(), idxmax(), idxmin()\n",
    "9. 범주형 데이터의 범주 카운트 구하기: value_counts()\n",
    "10. 조건에 맞는 행들만 선택하기 - boolean indexing\n",
    "11. 범주형 데이터가 특정 집합의 원소인지 아닌지 조사하기: isin()\n",
    "12. 등호/부등호의 사용: ==, >, <\n",
    "13. 특정 열 기준으로 정렬하기: sort_values()"
   ]
  },
  {
   "cell_type": "code",
   "execution_count": null,
   "id": "6bb64d42-faad-485d-a852-54181f3e386f",
   "metadata": {},
   "outputs": [],
   "source": [
    "import seaborn as sns\n",
    "df = sns.load_dataset('geyser')\n",
    "df.head()"
   ]
  },
  {
   "cell_type": "markdown",
   "id": "ff6cf178-a7ca-4c13-9380-c000e6e3f30f",
   "metadata": {},
   "source": [
    "- waiting 속성의 최대값은?\n",
    "- duration의 평균값은\n",
    "- kind의 종류와 빈도수는?\n",
    "- kind가 long인 것만 선택해서 새로운 DataFrame으로 저장\n",
    "- waiting의 히스토그램 확인\n",
    "- duration과 waiting간 assciation 있을까? (scipy.stats.pearsonr 사용)"
   ]
  },
  {
   "cell_type": "code",
   "execution_count": null,
   "id": "30717584-301c-40cf-92d7-529b5fff984a",
   "metadata": {},
   "outputs": [],
   "source": [
    "## 연습장\n",
    "\n"
   ]
  },
  {
   "cell_type": "code",
   "execution_count": null,
   "id": "a02edc57-ca80-4f20-a825-27ab40d5d58a",
   "metadata": {},
   "outputs": [],
   "source": [
    "from scipy.stats import pearsonr\n",
    "\n",
    "pearsonr( df['duration'], df['waiting'])"
   ]
  },
  {
   "cell_type": "code",
   "execution_count": null,
   "id": "d8d3c068-23bb-492f-87ea-a4a963da9871",
   "metadata": {},
   "outputs": [],
   "source": [
    "import matplotlib.pyplot as plt\n",
    "\n",
    "plt.plot(df['duration'], df['waiting'], '*')\n",
    "plt.xlabel('duration')\n",
    "plt.ylabel('waiting')"
   ]
  },
  {
   "cell_type": "markdown",
   "id": "72e9e707",
   "metadata": {},
   "source": [
    "# <font color=blue> __SCODA explorer__ \n",
    "MLBI-lab, Dec. 07, 2023\n",
    "\n",
    "- 이 주피터 노트북은 SCODA 결과를 시각화하여 확인하고 데이터 마이닝을 수행할 수 있는 코드 예제를 제공합니다. \n",
    "- 이 주피터 노트북을 사용하려면 <a href=https://mlbi-lab.net>SCODA pipeline</a>을 실행한 후 다운 받으신 SCODA 결과 파일 (xxx_results.tar.gz)이 현재 사용 중인 PC 혹은 테블릿에 저장되어 있어야 합니다.\n",
    "- __Local PC에서 실행된 주피터를 사용할 경우,__ 스텝 __1A__ 의 단계에 따라 진행하면 됩니다.\n",
    "- __Google Colab을 사용할 경우,__ 아래 스텝 __1B__ 의 단계에 따라 진행하면 됩니다."
   ]
  },
  {
   "cell_type": "markdown",
   "id": "a4cb1106-2500-4c53-8f5f-184da2e2ad2c",
   "metadata": {},
   "source": [
    "## __1A. Local PC에서 실행된 주피터를 사용할 경우__\n",
    "Local PC에서 실행된 주피터 프로그램으로 이 주피터 노트북을 실행 중인 경우, 다음 단계에 따라 진행하면 됩니다.\n",
    "\n",
    "1. 다운 받은 SCODA 결과 파일 (xxx_results.tar.gz)을 이 주피터 노트북 파일이 저장된 폴더에 복사합니다. (또는 파일의 경로를 확인 합니다.)\n",
    "2. 업로드가 완료되었다면 아래의 코드를 실행하여 '현' 디렉토리 내의 파일 목록을 확인 합니다."
   ]
  },
  {
   "cell_type": "code",
   "execution_count": null,
   "id": "7c20fcc9-cbc5-43d3-9f5f-ed4113957364",
   "metadata": {},
   "outputs": [],
   "source": [
    "import os\n",
    "\n",
    "os.listdir()\n",
    "## 리스트업된 파일 목록에 업로드한 파일이 들어있어야 합니다. ^^"
   ]
  },
  {
   "cell_type": "markdown",
   "id": "829f7e4e-fef2-4017-880b-a4519d153a37",
   "metadata": {},
   "source": [
    "3. 아래의 코드셀에서 변수 uploaded_file을 압축된 SCODA 결과파일의 경로/파일명으로 설정하여 실행하고 스텝 __2__ 로 갑니다."
   ]
  },
  {
   "cell_type": "code",
   "execution_count": null,
   "id": "ef3f946e-0b7a-4780-a6c8-01655593e2bd",
   "metadata": {},
   "outputs": [],
   "source": [
    "uploaded_file = '압축된 SCODA 결과파일의 경로/파일명으로 교체'"
   ]
  },
  {
   "cell_type": "markdown",
   "id": "972fd4f3-1d40-42b4-ae3d-a55030492c14",
   "metadata": {},
   "source": [
    "## __1B. Google Colab에서 사용할 경우__\n",
    "\n",
    "Colab 서버에서 이 주피터 노트북을 열었고 Colab 서버에서 이 주피터노트북을 사용하려면 다음의 단계에 따라 진행하면 됩니다.\n",
    "\n",
    "1. 먼저 구글 계정에 로그인을 해야하는데 .. 우측 상단의 \"로그인\" 버튼을 누르신 후, 구글 계정이 있다면 계정에 로그인을 하면 되고, 계정이 없으면 새로 만드신 후 로그인하면 됩니다. 계정에 로그인 했다면 다음으로 넘어 갑니다.\n",
    "2. 좌측에 아이콘이 몇개 보일텐데 이 아이콘들 중 폴더(파일) 형태의 아이콘(아마도 맨 마지막 아이콘)이 보이는데 이걸 클릭합니다.\n",
    "   - 좌측에 아이콘들이 안보이는 경우 좌측 상단(혹은 하단)에 메뉴 아이콘이 있을 거고 이를 누르면 드롭다운 메뉴가 나오고 여기서 파일 브라우저 표시를 선택합니다.\n",
    "3. 그러면 좌측에 폴더 뷰가 나오고 폴더 뷰 상단에 몇 개 아이콘이 보입니다.\n",
    "4. 이 아이콘들 중 파일 업로드 아이콘(네모 박스안에 위 방향 화살표가 있는 아이콘)을 클릭합니다.\n",
    "5. 그러면 파일선택 창이 뜨는데 업로드할 파일(압축되어 있는 SCODA 결과 파일)을 선택하고 업로드 합니다. (혹은 업로드할 파일을 파일 뷰안으로 drag & drop 합니다.)\n",
    "    - 폴더 뷰 아래에 업로드 진행 상황이 나오니 업로드가 완료될 때까지 (동그라미가 한바퀴 다 돌때까지) 기다립니다.\n",
    "    - 무료 사용의 경우 업로드 시간이 꽤 걸립니다.\n",
    "    - 파일업로드가 완료되었다면 폴더 뷰에 해당 파일이 업로드 된 것을 확인할 수 있고 이제 좌측의 폴더 뷰는 닫아도 됩니다. ^^\n",
    "6. 업로드가 완료되었다면 아래의 코드를 실행하여 '현' 디렉토리 내의 파일 목록을 확인 합니다. "
   ]
  },
  {
   "cell_type": "code",
   "execution_count": null,
   "id": "8f995055-454a-43f6-8e1e-c102d9d35aa6",
   "metadata": {},
   "outputs": [],
   "source": [
    "import os\n",
    "\n",
    "os.listdir()\n",
    "## 리스트업된 파일 목록에 업로드한 파일이 들어있어야 합니다. ^^"
   ]
  },
  {
   "cell_type": "markdown",
   "id": "c77e09ec-43ca-4677-91a0-f9b8d035b492",
   "metadata": {},
   "source": [
    "7. 아래의 코드셀에서 변수 uploaded_file을 압축된 SCODA 결과파일의 경로/파일명으로 설정하여 실행하고 스텝 __2__ 로 갑니다."
   ]
  },
  {
   "cell_type": "code",
   "execution_count": null,
   "id": "9c54e2e9-7fa4-421d-8f9b-5d8c041e53de",
   "metadata": {},
   "outputs": [],
   "source": [
    "uploaded_file = '압축된 SCODA 결과파일의 경로/파일명으로 교체'"
   ]
  },
  {
   "cell_type": "markdown",
   "id": "8ece502b-6e2c-46b0-be7b-7f2b9664d00c",
   "metadata": {},
   "source": [
    "## __2. 압축 해제__\n",
    "1. 아래의 코드를 실행합나다.\n",
    "    - 아래 코드는 uploaded_file(압축파일)의 압축을 해제하여 h5ad 파일을 얻고 file_h5ad 변수를 해당 파일명으로 설정합니다.\n",
    "2. 아래의 코드 실행이 완료되었다면 스텝 __3__ 으로 넘어가면 됩니다."
   ]
  },
  {
   "cell_type": "code",
   "execution_count": null,
   "id": "c6de07df",
   "metadata": {},
   "outputs": [],
   "source": [
    "import os, tarfile, shutil\n",
    "\n",
    "## Decompress uploaded tar.gz file and move it to the current directory\n",
    "if uploaded_file.split('.')[-1] == 'gz':\n",
    "    extract_path = 'uploaded'\n",
    "    if os.path.isdir(extract_path):\n",
    "        shutil.rmtree(extract_path)\n",
    "        \n",
    "    with tarfile.open(uploaded_file, \"r:gz\") as tar:\n",
    "        tar.extractall(path=extract_path)\n",
    "        \n",
    "    file_h5ad = os.listdir(extract_path)[0]\n",
    "    file = extract_path + '/%s' % file_h5ad\n",
    "    if os.path.isdir(file):\n",
    "        file_h5ad = os.listdir(file)[0]\n",
    "        file = file + '/%s' % (file_h5ad)\n",
    "\n",
    "    if os.path.isfile(file_h5ad):\n",
    "        os.remove(file_h5ad)\n",
    "        \n",
    "    if not os.path.isfile(file_h5ad):\n",
    "       shutil.move(file, '.')\n",
    "        \n",
    "    print('Your file: %s' % file_h5ad)"
   ]
  },
  {
   "cell_type": "markdown",
   "id": "4a7f815d",
   "metadata": {},
   "source": [
    "## __3. Install required packages and import them__\n",
    "이제 파일이 준비되었으니 필요한 패키지를 설치하고 이를 불러와서(import해서) 데이터를 들여다 볼 수 있습니다."
   ]
  },
  {
   "cell_type": "code",
   "execution_count": null,
   "id": "67e3fc11",
   "metadata": {},
   "outputs": [],
   "source": [
    "## 필요한 패키지 설치 (이미 설치되었다면 skip 해도 됩니다.)\n",
    "!pip install numpy          ## ==1.23.4 --upgrade\n",
    "!pip install pandas         ## ==2.0.3 --upgrade\n",
    "!pip install scipy          ## ==1.10.1 --upgrade\n",
    "!pip install matplotlib\n",
    "!pip install scikit-learn   ## ==0.24.0 --upgrade\n",
    "!pip install scikit-network ##==0.31.0 --upgrade\n",
    "!pip install seaborn        ##==0.12.2 --upgrade\n",
    "!pip install scanpy==1.9.6\n",
    "!pip install statannot\n",
    "!pip install scoda-viz"
   ]
  },
  {
   "cell_type": "code",
   "execution_count": null,
   "id": "1ef3aa23",
   "metadata": {},
   "outputs": [],
   "source": [
    "## 필요한 패키지 불러오기\n",
    "import copy, warnings\n",
    "import anndata\n",
    "import numpy as np\n",
    "import pandas as pd\n",
    "import scanpy as sc\n",
    "import matplotlib.pyplot as plt\n",
    "\n",
    "from scodaviz.plotlib import plot_population, plot_population_grouped\n",
    "from scodaviz.plotlib import plot_cci_dot, plot_cci_circ_group\n",
    "from scodaviz.plotlib import plot_gsa_bar, plot_gsa_dot\n",
    "from scodaviz.plotlib import plot_deg, plot_marker_exp\n",
    "from scodaviz.plotlib import plot_cnv, plot_violin, plot_pct_box\n",
    "\n",
    "from scodaviz.plotlib import get_population, get_cci_means, get_gene_expression_mean\n",
    "from scodaviz.plotlib import get_markers_from_deg, test_group_diff, filter_gsa_result\n",
    "\n",
    "warnings.filterwarnings('ignore') "
   ]
  },
  {
   "cell_type": "markdown",
   "id": "89146f84",
   "metadata": {},
   "source": [
    "## __3. Load data__"
   ]
  },
  {
   "cell_type": "code",
   "execution_count": null,
   "id": "875db079-d898-42e7-aae5-9f626a3e71da",
   "metadata": {},
   "outputs": [],
   "source": [
    "file_h5ad "
   ]
  },
  {
   "cell_type": "code",
   "execution_count": null,
   "id": "ccdbd42a",
   "metadata": {},
   "outputs": [],
   "source": [
    "adata_t = sc.read_h5ad(file_h5ad)\n",
    "adata_t"
   ]
  },
  {
   "cell_type": "markdown",
   "id": "e1217d8b-9e21-4fea-89e3-ba5935eda8f0",
   "metadata": {},
   "source": [
    "- #### __AnnData format:__ https://anndata.readthedocs.io/en/latest/"
   ]
  },
  {
   "cell_type": "markdown",
   "id": "de474a0f-08e1-45a6-9273-872c6e90647a",
   "metadata": {},
   "source": [
    "-  #### SCODA를 이용하여 생성된 결과는 다음과 같다.\n",
    "    - __적용된 분석 파라미터__: uns -> 'analysis_parameters'\n",
    "    - __celltype annotation 결과__: obs -> 'celltype_major', 'celltype_minor', 'celltype_subset'\n",
    "    - __celltype annotation 결과의 상세내용__: obsm -> 'HiCAT_result'\n",
    "    - __celltype annotation에 사용된 celltype marker 정보__: uns -> 'Celltype_marker_DB'\n",
    "    - __InferCNV 결과__: obsm -> 'X_cnv', 'X_cnv_pca', obs -> 'cnv_score', 'cnv_cluster'\n",
    "    - __InferCNV 분석 파라미터 및 관련 정보__: uns -> 'cnv', 'cnv_neighbors_info', 'cnv_ref_celltypes'\n",
    "    - __암세포 식별 결과__: obs -> 'tumor_dec', 'tumor_score', 'celltype_minor_rev'\n",
    "    - __Cell간 상호작용 추론 결과__: uns -> 'CCI_sample' (샘플별), 'CCI' (조건별)\n",
    "    - __DEG 결과__: uns -> 'DEG', 'DEG_stat'\n",
    "    - __GSA/GSEA 결과__: uns -> 'GSA_down', 'GSA_up', 'GSEA'"
   ]
  },
  {
   "cell_type": "code",
   "execution_count": null,
   "id": "90ef5909-4141-4092-9b12-78139e3e7575",
   "metadata": {},
   "outputs": [],
   "source": [
    "adata_t.obs[['sample', 'condition']].value_counts()"
   ]
  },
  {
   "cell_type": "code",
   "execution_count": null,
   "id": "a074cc7f-ae29-4f7a-8b79-4e0dd19bccf4",
   "metadata": {},
   "outputs": [],
   "source": [
    "b = adata_t.obs['sample'] == 'CID45171'\n",
    "adata_t[b,:].obs['celltype_major'].value_counts()"
   ]
  },
  {
   "cell_type": "code",
   "execution_count": null,
   "id": "4cc378af-370e-4579-a0d1-ad625acbdcae",
   "metadata": {},
   "outputs": [],
   "source": [
    "adata_t.uns['analysis_parameters']"
   ]
  },
  {
   "cell_type": "code",
   "execution_count": null,
   "id": "3465b2c8-a778-4476-a488-8b6199108bac",
   "metadata": {},
   "outputs": [],
   "source": [
    "adata_t.obsm['HiCAT_result']"
   ]
  },
  {
   "cell_type": "code",
   "execution_count": null,
   "id": "96a216b9-422e-4ab8-8082-0c171aca6221",
   "metadata": {},
   "outputs": [],
   "source": [
    "adata_t.obsm['HiCAT_result'].columns.values.tolist()"
   ]
  },
  {
   "cell_type": "code",
   "execution_count": null,
   "id": "d4b8975f-60ce-4023-aff2-3d7c55419cfa",
   "metadata": {},
   "outputs": [],
   "source": [
    "adata_t.obs['celltype_major'].value_counts()"
   ]
  },
  {
   "cell_type": "code",
   "execution_count": null,
   "id": "44ec5285-b511-43e7-b220-9c41cd9f07e7",
   "metadata": {},
   "outputs": [],
   "source": [
    "adata_t.obs['celltype_minor'].value_counts()"
   ]
  },
  {
   "cell_type": "code",
   "execution_count": null,
   "id": "a3dc3329-1891-4dde-89c8-6d6cec91fc96",
   "metadata": {},
   "outputs": [],
   "source": []
  },
  {
   "cell_type": "markdown",
   "id": "f7cf6548",
   "metadata": {},
   "source": [
    "## __4. Check your data__\n",
    "### __UMAP 및 celltype annotation 결과__"
   ]
  },
  {
   "cell_type": "code",
   "execution_count": null,
   "id": "88fa789c",
   "metadata": {},
   "outputs": [],
   "source": [
    "### celltype 이름을 짧은 이름으로 대치\n",
    "rename_dict = {}\n",
    "\n",
    "lst = ['Epithelial cell', 'T cell', 'Smooth muscle cell', \n",
    "       'Fibroblast', 'Myeloid cell', 'Endothelial cell', 'B cell']\n",
    "lst2 = ['Epi', 'T cell', 'SMC', 'Fib', 'Myeloid', 'Endo', 'B cell']\n",
    "## 이름 변경을 위한 dictionalry 생성\n",
    "rename_dict['celltype_major'] = dict(zip(lst, lst2))\n",
    "\n",
    "## minor type에 대해 동일한 과정으로 이름 변경\n",
    "lst = ['Epithelial cell', 'T cell CD4+', 'T cell CD8+', 'Smooth muscle cell', \n",
    "       'Fibroblast', 'ILC', 'Dendritic cell', 'Monocyte', 'Endothelial cell', \n",
    "       'Macrophage', 'B cell', 'Plasma cell', 'NK cell']\n",
    "lst2 = ['Epi', 'CD4+ T', 'CD8+ T', 'SMC', 'Fib', 'ILC', 'DC', 'Mono', \n",
    "        'Endo', 'Mac', 'B cell', 'Plasma', 'NK']\n",
    "rename_dict['celltype_minor'] = dict(zip(lst, lst2))\n",
    "\n",
    "## subset에 대해 동일한 과정으로 이름 변경\n",
    "lst = ['B cell (Breg)', 'B cell (Follicular)', 'B cell (MZ)', 'B cell(Memory)',\n",
    "       'DC (Classical)', 'DC (Inflammatory)', 'DC (Plasmacytoid)', 'Monocyte', \n",
    "       'Endothelial cell', 'Epithelial cell', 'Fibroblast', \n",
    "       'ILC1', 'ILC2', 'ILC3 (NCR+)', 'ILC3 (NCR-)', 'ILCreg', 'LTI',\n",
    "       'Macrophage (M1)', 'Macrophage (M2A)', 'Macrophage (M2B)', 'Macrophage (M2C)', 'Macrophage (M2D)',\n",
    "       'NK cell', 'Plasma cell', 'Smooth muscle cell', \n",
    "       'T cell (Cytotoxic)', 'T cell (Naive)', 'T cell (Tfh)', 'T cell (Th1)', \n",
    "       'T cell (Th17)', 'T cell (Th2)', 'T cell (Th22)', 'T cell (Th9)', \n",
    "       'T cell (Treg)', 'MDSC (Granulocytic)', 'MDSC (Monocytic)']\n",
    "lst2 = ['Breg', 'Bf', 'BMZ', 'Bmem', 'cDC', 'iDC', 'pDC', 'Mono', 'Endo', \n",
    "        'Epi', 'Fib', 'ILC1', 'ILC2', 'ILC3(+)', 'ILC3(-)', 'ILCreg', 'LTI', \n",
    "        'Mac_M1', 'Mac_M2a', 'Mac_M2b', 'Mac_M2c', 'Mac_M2d', 'NK', 'Plasma', \n",
    "        'SMC', 'T_Cyto', 'T_Naive', 'Tfh', 'Th1', 'Th17', 'Th2', 'Th22', 'Th9', \n",
    "        'Treg', 'MDSC_G', 'MDSC_M']\n",
    "rename_dict['celltype_subset'] = dict(zip(lst, lst2))\n"
   ]
  },
  {
   "cell_type": "code",
   "execution_count": null,
   "id": "759bd279",
   "metadata": {},
   "outputs": [],
   "source": [
    "## adata_t의 사본을 만들어서 adata에 저장\n",
    "adata = adata_t[:,:]\n",
    "## 이렇게하면 adata에 대해 처리한 내용이 원본에는 반영되지 않음\n",
    "\n",
    "## UMAP 프로젝션을 얻기 위한 기본적 처리과정\n",
    "sc.pp.normalize_total(adata, target_sum=1e4)\n",
    "sc.pp.log1p(adata)\n",
    "sc.pp.highly_variable_genes(adata, n_top_genes = 2000) \n",
    "sc.tl.pca(adata, n_comps = 15, use_highly_variable = True)\n",
    "sc.pp.neighbors(adata, n_neighbors=10, n_pcs=15, use_rep = 'X_pca')\n",
    "sc.tl.umap(adata) "
   ]
  },
  {
   "cell_type": "code",
   "execution_count": null,
   "id": "7aed9672",
   "metadata": {},
   "outputs": [],
   "source": [
    "items_to_plot = ['celltype_major', 'condition', 'sample', \n",
    "                 'celltype_minor', 'celltype_subset'] \n",
    "\n",
    "cols = ['celltype_major', 'celltype_minor', 'celltype_subset']\n",
    "for col in cols:\n",
    "    adata.obs[col] = adata.obs[col].astype(str)\n",
    "    adata.obs[col].replace(rename_dict[col], inplace = True)\n",
    "\n",
    "ws_hs = (0.3, 0.3)\n",
    "sc.settings.set_figure_params(figsize=(3.5, 3.5), dpi=80, facecolor='white')\n",
    "fig = sc.pl.embedding( adata, basis = 'X_umap', neighbors_key = 'neighbors',\n",
    "                       color=items_to_plot, wspace = ws_hs[0], hspace = ws_hs[1], legend_fontsize = 10, \n",
    "                       ncols = 3, palette = 'Spectral', return_fig = True) #, add_outline = True) \n",
    "\n",
    "plt.show()"
   ]
  },
  {
   "cell_type": "markdown",
   "id": "9ac4e075-9986-4475-8b4e-d011752c8d18",
   "metadata": {},
   "source": [
    "- __HiCAT:__ https://github.com/combio-dku/HiCAT"
   ]
  },
  {
   "cell_type": "markdown",
   "id": "8645de60-91a6-46cf-aa50-20f609240b54",
   "metadata": {},
   "source": [
    "Major type/minor type annotation이 잘 되었는지 확인하기 위해 잘 알려진 마커들의 발현 패턴을 확인함"
   ]
  },
  {
   "cell_type": "code",
   "execution_count": null,
   "id": "092b00bf",
   "metadata": {},
   "outputs": [],
   "source": [
    "items_to_plot = ['celltype_major', 'celltype_minor']\n",
    "\n",
    "genes = ['CD3D', 'CD4', 'CD8A', 'CD79A', 'MS4A1', 'MZB1', \n",
    "         'CD14', 'LYZ', 'FBLN1', 'NOTCH3', 'EPCAM', 'MUC1',  'CD34']\n",
    "\n",
    "## 위 목록의 마커 유전자들 중 현재의 데이터에 있는 유전자들만 순서대로 선택 \n",
    "genes_all = list(adata.var.index.values)\n",
    "for g in genes:\n",
    "    if adata_t.uns['usr_param']['species'] == 'mouse':\n",
    "        g = g[:1] + g[1:].lower()\n",
    "    if g in genes_all:\n",
    "        items_to_plot = items_to_plot + [g]\n",
    "\n",
    "ws_hs = (0.3, 0.3) ## subplot 간 수평/수직 방향의 공간 크기 설정\n",
    "sc.settings.set_figure_params(figsize=(3.5, 3.5), dpi=80, facecolor='white')\n",
    "fig = sc.pl.embedding( adata, basis = 'X_umap', neighbors_key = 'neighbors',\n",
    "                       color=items_to_plot, wspace = ws_hs[0], hspace = ws_hs[1], legend_fontsize = 10, \n",
    "                       ncols = 3, palette = 'Spectral', return_fig = True) #, add_outline = True) \n",
    "\n",
    "plt.show()"
   ]
  },
  {
   "cell_type": "markdown",
   "id": "faaccc11",
   "metadata": {},
   "source": [
    "#### __Subset marker expression pattern 확인__\n",
    "- Subset annotation은 UMAP으로 확인하기 어려우므로 dot plot을 사용하여 확인\n",
    "- dot의 크기는 annotation 결과 기준으로 해당 유형의 세포 중 얼마나 많은 비율이 해당 유정의 마커 유전자를 발현하고 있는지 보여줌\n"
   ]
  },
  {
   "cell_type": "code",
   "execution_count": null,
   "id": "375cfde0",
   "metadata": {},
   "outputs": [],
   "source": [
    "mkr_dict = copy.deepcopy( adata_t.uns['Celltype_marker_DB']['subset_markers_dict'] )\n",
    "var_group_col = 'celltype_subset'\n",
    "title = 'subset marker expression profile'\n",
    "\n",
    "plot_marker_exp(  adata_t, markers = mkr_dict, \n",
    "                  var_group_col = var_group_col, group_col = None, \n",
    "                  title = title, title_y_pos = 1.1, title_fs = 30, \n",
    "                  text_fs = 18, linewidth = 1.5, standard_scale = 'var',\n",
    "                  var_group_rotation = 40, var_group_height = 1.2, \n",
    "                  nz_frac_max = 0.6, nz_frac_cutoff = 0.05, \n",
    "                  rem_mkrs_common_in_N_groups_or_more = 3, N_cells_min = 20,\n",
    "                  N_markers_per_group_max = 8, N_markers_total = 120, \n",
    "                  figsize = None, swap_ax = True, legend = True )\n"
   ]
  },
  {
   "cell_type": "markdown",
   "id": "fa471d15",
   "metadata": {},
   "source": [
    "### __Celltype Population 확인__\n"
   ]
  },
  {
   "cell_type": "code",
   "execution_count": null,
   "id": "b3d0c8c4",
   "metadata": {},
   "outputs": [],
   "source": [
    "## 샘플별 세포 개수 및  상대비율을 얻어서 데이터프레임에 저장\n",
    "celltype_col = 'celltype_minor' ## 세포 유형의 기준\n",
    "df_cnt, df_pct= get_population( adata_t.obs['sample_rev'], \n",
    "                                adata_t.obs[celltype_col], sort_by = [] )\n",
    "## 샘플별 세포 개수 확인\n",
    "display(df_pct.round(1))\n",
    "\n",
    "plot_population( df_pct, bar_width = 0.6,\n",
    "                 title = celltype_col, title_fs = 14, \n",
    "                 label_fs = 12, tick_fs = 10, xtick_rot = 45, xtick_ha = 'right',\n",
    "                 legend_fs = 9, legend_loc = 'upper left', bbox_to_anchor = (1,1), \n",
    "                 legend_ncol = 1, cmap_name = None, figsize=(4, 3))"
   ]
  },
  {
   "cell_type": "code",
   "execution_count": null,
   "id": "2120a24f",
   "metadata": {},
   "outputs": [],
   "source": [
    "## 그룹별로 묶어서 barplot을 그리려면 샘플-그룹간 연결을 정의하는 dictionary를 가져와야 함. \n",
    "sample_group_map = adata_t.uns['lut_sample_to_cond']\n",
    "    \n",
    "plot_population_grouped( df_pct, sample_group_map, sort_by = [], bar_width = 0.6,\n",
    "                         title = celltype_col, title_fs = 14, title_y_pos = 1.12,\n",
    "                         label_fs = 12, tick_fs = 10, xtick_rot = 45, xtick_ha = 'right',\n",
    "                         legend_fs = 9, legend_loc = 'upper left', bbox_to_anchor = (1,1), \n",
    "                         legend_ncol = 1, cmap_name = None, figsize=(4, 3))"
   ]
  },
  {
   "cell_type": "code",
   "execution_count": null,
   "id": "fdf1bbdf-caf7-4c90-8c76-584256bfd357",
   "metadata": {},
   "outputs": [],
   "source": [
    "sample_group_map = adata_t.uns['lut_sample_to_cond']\n",
    "df_res = test_group_diff( df_pct, sample_group_map, \n",
    "                          ref_group = None, pval_cutoff = 0.1 )\n",
    "display(df_res)"
   ]
  },
  {
   "cell_type": "code",
   "execution_count": null,
   "id": "25555cbe-9800-42f7-b347-e29c67a241b1",
   "metadata": {},
   "outputs": [],
   "source": [
    "lst = df_res.index.values.tolist()\n",
    "\n",
    "## Show the first 5 CCIs\n",
    "plot_pct_box(df_pct[lst], sample_group_map, ylabel = 'Celltype proportion', \n",
    "             ncols = 3, figsize = (3.5,3.5), dpi = 120, \n",
    "             group_order = ['Normal', 'ER+', 'HER2+', 'TNBC'],\n",
    "             title = None, title_y_pos = 1.05, title_fs = 15, \n",
    "             label_fs = 12, tick_fs = 10, tick_rot = 0, \n",
    "             annot_ref = None, annot_fmt = 'simple', annot_fs = 12, \n",
    "             ws_hs = (0.2, 0.2), stripplot = True)"
   ]
  },
  {
   "cell_type": "markdown",
   "id": "1b956e2a-9ff5-403a-bfff-d358ba31878e",
   "metadata": {},
   "source": [
    "#### __특정 세포유형의 subset population 확인__"
   ]
  },
  {
   "cell_type": "code",
   "execution_count": null,
   "id": "09aba357-5045-4709-963b-8a0e544184b4",
   "metadata": {},
   "outputs": [],
   "source": [
    "## 특정 세포유형의 subset별 상대비율을 얻기 위해 특정 세포 유형만 선택\n",
    "## 이 경우 Macrophage subset의 상대비율을 보기 위해 먼저 minor type이 macrophage인 cell들만 선택\n",
    "b = adata_t.obs['celltype_minor'] == 'T cell CD4+'\n",
    "adata_s = adata_t[b,:]\n",
    "\n",
    "## 샘플별로 macrophage subset의 개수와 상대비율을 얻어서 데이터프레임에 저장 \n",
    "celltype_col = 'celltype_subset'\n",
    "df_cnt, df_pct= get_population( adata_s.obs['sample_rev'], \n",
    "                                adata_s.obs[celltype_col], sort_by = [] )\n",
    "display(df_cnt)\n",
    "\n",
    "plot_population_grouped( df_pct, sample_group_map, sort_by = [], \n",
    "                         title = celltype_col, title_fs = 14, title_y_pos = 1.12,\n",
    "                         label_fs = 12, bar_width = 0.6,\n",
    "                         tick_fs = 10, xtick_rot = 45, xtick_ha = 'right',\n",
    "                         legend_fs = 9, legend_loc = 'upper left', \n",
    "                         bbox_to_anchor = (1,1), legend_ncol = 1, \n",
    "                         cmap_name = None, figsize=(4, 3))"
   ]
  },
  {
   "cell_type": "code",
   "execution_count": null,
   "id": "be308db5-582e-4804-90e5-3936bb3df5be",
   "metadata": {},
   "outputs": [],
   "source": []
  },
  {
   "cell_type": "markdown",
   "id": "a07fd64b",
   "metadata": {},
   "source": [
    "### __CNV & tumor cell identification 결과__ \n",
    "#### <font color=blue>(This works only if you checked \"Tumor Identification\" box when running SCODA)</font>\n",
    "\n",
    "- __InferCNVpy:__ https://infercnvpy.readthedocs.io/en/latest/infercnv.html "
   ]
  },
  {
   "cell_type": "code",
   "execution_count": null,
   "id": "5effa2ca",
   "metadata": {},
   "outputs": [],
   "source": [
    "## InferCNV에 사용된 reference 세포 유형 확인\n",
    "adata_t.uns['cnv_ref_celltypes'].tolist()"
   ]
  },
  {
   "cell_type": "markdown",
   "id": "3b5ab314-9b82-4b6b-be8b-71a96a24f547",
   "metadata": {},
   "source": [
    "#### CNV 패턴 확인"
   ]
  },
  {
   "cell_type": "code",
   "execution_count": null,
   "id": "2efbbacd",
   "metadata": {},
   "outputs": [],
   "source": [
    "## adata_t의 사본을 만들어서 adata에 저장\n",
    "## 이렇게하면 adata에 대해 처리한 내용이 원본에는 반영되지 않음\n",
    "adata = adata_t[:,:]\n",
    "\n",
    "## cell들을 Grouping 하기 위해 obs 필드에 'tumor_dec_rev' 열을 새로 정의\n",
    "## 기본적으로 major type의 이름을 사용\n",
    "adata.obs['tumor_dec_rev'] = adata.obs['celltype_major'].copy(deep = True).astype(str)\n",
    "\n",
    "## InferCNV에 사용된 reference 세포 유형들은 'Normal ref'로 이름 변경\n",
    "if 'cnv_ref_celltypes' in adata.uns.keys():\n",
    "    b = adata.obs['tumor_dec_rev'].isin(adata.uns['cnv_ref_celltypes'])\n",
    "    adata.obs.loc[b, 'tumor_dec_rev'] = 'Normal ref'\n",
    "\n",
    "## condition 열에 정의된 유방암 subtype에 따라 암세포로 식별된 세포들의 이름에 유방암 subtype을 추가하여 이름 변경\n",
    "## 예: condition이 ER+인 샘플중 Tumor cell들은 이름을 'Tumor ER+'로 변경 \n",
    "cond_col = 'condition'\n",
    "clst = adata.obs[cond_col].unique()\n",
    "for c in clst:\n",
    "    b = (adata.obs[cond_col] == c) & (adata.obs['tumor_dec'] == 'Tumor')\n",
    "    s = 'Tumor %s' % c\n",
    "    adata.obs.loc[b, 'tumor_dec_rev'] = s\n",
    "\n",
    "## 'tumor_dec_rev'열 기준으로 Grouping하여 각 그룹별 CNV 패턴을 비교\n",
    "axd = plot_cnv( adata, groupby = 'tumor_dec_rev', \n",
    "                title = 'log2(CNR)', title_fs = 14, title_y_pos = 1.15, \n",
    "                figsize = (11, 6), swap_axes = False, \n",
    "                var_group_rotation = 90, cmap='RdBu_r', vmax = 1)"
   ]
  },
  {
   "cell_type": "markdown",
   "id": "46855a08-fb0e-45f2-934f-11eeedce0dff",
   "metadata": {},
   "source": [
    "#### Tumor cell로 식별된 세포들만 골라서 샘플별로 CNV 패턴 비교"
   ]
  },
  {
   "cell_type": "code",
   "execution_count": null,
   "id": "d52e5fb3-ef0d-4835-8005-78b4543f1ec1",
   "metadata": {},
   "outputs": [],
   "source": [
    "## adata의 cell들 중 tumor cell들만 골라서 adata2에 저장\n",
    "b = (adata.obs['tumor_dec'] == 'Tumor')\n",
    "adata2 = adata[b,:]\n",
    "\n",
    "## 'sample_rev'열 기준으로 Grouping하여 각 그룹별 CNV 패턴을 비교\n",
    "plot_cnv( adata2, groupby = 'sample_rev', \n",
    "                title = 'log2(CNR)', title_fs = 14, title_y_pos = 1.15, \n",
    "                figsize = (11, 6), swap_axes = False, \n",
    "                var_group_rotation = 90, cmap='RdBu_r', vmax = 1)"
   ]
  },
  {
   "cell_type": "markdown",
   "id": "b7f196b6-0d68-4b1a-992c-2079de4677c8",
   "metadata": {},
   "source": [
    "#### CNV 패턴을 UMAP 차원 축소하여 확인"
   ]
  },
  {
   "cell_type": "code",
   "execution_count": null,
   "id": "ce3a0bff",
   "metadata": {},
   "outputs": [],
   "source": [
    "adata = adata_t[:,:]\n",
    "\n",
    "ad_tmp = sc.tl.umap(adata, neighbors_key = 'cnv_neighbors_info', copy = True)   \n",
    "adata.obsm['X_cnv_umap'] = ad_tmp.obsm['X_umap']\n",
    "\n",
    "items_to_plot = ['condition', 'sample_rev', 'tumor_dec', 'celltype_major'] \n",
    "\n",
    "# sc.settings.set_figure_params(figsize=(3.5, 3.5), dpi=80, facecolor='white')\n",
    "fig = sc.pl.embedding( adata, basis = 'X_cnv_umap', neighbors_key = 'cnv_neighbors',\n",
    "                       color=items_to_plot, wspace = 0.35, legend_fontsize = 12, \n",
    "                       ncols = 2, palette = 'Spectral', return_fig = False) \n",
    "                       #, add_outline = True) \n",
    "plt.show()"
   ]
  },
  {
   "cell_type": "code",
   "execution_count": null,
   "id": "76334e77-b591-4f6d-b35d-17ad5056f791",
   "metadata": {},
   "outputs": [],
   "source": []
  },
  {
   "cell_type": "markdown",
   "id": "896ae831",
   "metadata": {},
   "source": [
    "### __Cell-cell interaction 분석결과__ \n",
    "- 샘플별 CCI 결과와 조건별 CCI 결과가 따로 저장되어 있음\n",
    "- 데이터 포맷은 두 결과가 동일함\n",
    "- 조건별 CCI는 해당 조건에 포함된 샘플중 일정 퍼센트 이상의 샘플에서 공통적으로 확인된 것들만 추린 것임."
   ]
  },
  {
   "cell_type": "markdown",
   "id": "245c5402-cbe7-4e14-b5ad-9b3a10306ffe",
   "metadata": {},
   "source": [
    "- __CellPhoneDB:__ https://www.cellphonedb.org/\n",
    "- __CCI_sample__ data structure"
   ]
  },
  {
   "attachments": {
    "327f669f-3b45-43b5-b0e5-98a927529710.png": {
     "image/png": "[encoded data removed]"
    }
   },
   "cell_type": "markdown",
   "id": "452e8432-9f3e-4504-ad96-7d28a36a76e6",
   "metadata": {},
   "source": [
    "<div>\n",
    "<img src=attachment:327f669f-3b45-43b5-b0e5-98a927529710.png width=\"300\"/>   \n",
    "</div>"
   ]
  },
  {
   "cell_type": "code",
   "execution_count": null,
   "id": "591b7dea-bf81-44e7-978b-06ab271a487f",
   "metadata": {},
   "outputs": [],
   "source": [
    "cci_df_dct['ER+ CID3948']"
   ]
  },
  {
   "cell_type": "code",
   "execution_count": null,
   "id": "6aa4b3eb-b08f-4be2-8a6a-b34c84fed18e",
   "metadata": {},
   "outputs": [],
   "source": [
    "## 샘플 별 CCI 결과\n",
    "cci_df_dct = adata_t.uns['CCI_sample']\n",
    "sample_lst = list(cci_df_dct.keys())\n",
    "sample_lst"
   ]
  },
  {
   "cell_type": "code",
   "execution_count": null,
   "id": "ae4bff5c-9db5-4804-92f0-5dc97c1cdcc5",
   "metadata": {},
   "outputs": [],
   "source": [
    "## CCI 결과의 형식\n",
    "cci_df_dct[sample_lst[-1]].head()"
   ]
  },
  {
   "cell_type": "markdown",
   "id": "eb2035c6-e61e-4feb-8e1c-9ea81e5a81eb",
   "metadata": {},
   "source": [
    "#### __cell-cell interactions pattern per sample__"
   ]
  },
  {
   "cell_type": "code",
   "execution_count": null,
   "id": "c8da0516-cc6b-495e-a7e7-19d44e901124",
   "metadata": {},
   "outputs": [],
   "source": [
    "## DataFrame들의 dictionalry로 되어 있는 CCI 결과를 가져옴\n",
    "cci_df_dct = adata_t.uns['CCI_sample']\n",
    "\n",
    "## 세포 유형 이름을 약어로 대치 (앞에서 만들어 놓은 dictionary 사용)\n",
    "rend = rename_dict['celltype_minor']\n",
    "\n",
    "plot_cci_circ_group( cci_df_dct, target = None, \n",
    "                     rename = rend, remove_common = False,\n",
    "                     ncol = 3, figsize = (3.5,3.5), \n",
    "                     title = None, title_y_pos = 1.1, title_fs = 24, \n",
    "                     text_fs = 9, num_fs = 7, margin = 0.08, \n",
    "                     alpha = 0.5, R_curvature = 3, \n",
    "                     linewidth_max = 8, linewidth_log = False, \n",
    "                     node_size = 8, rot = False, cmap = 'Spectral', \n",
    "                     wspace = 0.15, hspace = 0.1 )"
   ]
  },
  {
   "cell_type": "code",
   "execution_count": null,
   "id": "f1797e64",
   "metadata": {},
   "outputs": [],
   "source": [
    "## 특정 세포유형을 중심으로 CCI 개수 확인 (이 경우 Epithelial cell을 중심으로 봄)\n",
    "target = ['Epi']\n",
    "\n",
    "plot_cci_circ_group( cci_df_dct, target = target, \n",
    "                     rename = rend, remove_common = False,\n",
    "                     ncol = 3, figsize = (3.5,3.5), \n",
    "                     title = None, title_y_pos = 1.1, title_fs = 24, \n",
    "                     text_fs = 9, num_fs = 7, margin = 0.08, \n",
    "                     alpha = 0.5, R_curvature = 3, \n",
    "                     linewidth_max = 8, linewidth_log = False, \n",
    "                     node_size = 8, rot = False, cmap = 'Spectral', \n",
    "                     wspace = 0.15, hspace = 0.1 )"
   ]
  },
  {
   "cell_type": "code",
   "execution_count": null,
   "id": "0105158a-2c8f-434c-9a44-792ac304825f",
   "metadata": {},
   "outputs": [],
   "source": []
  },
  {
   "cell_type": "markdown",
   "id": "9079b333-616e-4362-8627-614dc2c1b12c",
   "metadata": {},
   "source": [
    "#### __각 샘플(조건)별 상세 내용__"
   ]
  },
  {
   "cell_type": "code",
   "execution_count": null,
   "id": "8d0f3d4c-ec5e-4f75-bdc2-3924f6fb6d15",
   "metadata": {},
   "outputs": [],
   "source": [
    "## 특정 target cell이 포함된 interaction들만 확인함. (모든 CCI를 다 보려면 target_cells을 []로 설정)\n",
    "target_cells = ['Epithelial cell']\n",
    "target_genes = []\n",
    "\n",
    "## 각 샘플별(조건별)로 CCI 확인. \n",
    "## p-value, cci mean으로 정렬하여 일정 개수의 상호작용만 표시\n",
    "for g in df_dct.keys():    \n",
    "    dfv = df_dct[g]\n",
    "    ax = plot_cci_dot( dfv, n_gene_pairs = 60, \n",
    "                       pval_cutoff = 0.05, mean_cutoff = 0.5,\n",
    "                       target_cells = target_cells, target_genes = target_genes,\n",
    "                       title = 'CPDB result for %s' % g, title_fs = 12, \n",
    "                       legend_fs = 9, legend_mkr_sz = 9, \n",
    "                       tick_fs = 9, xtick_rot = 90, xtick_ha = 'center',\n",
    "                       dpi = 80, swap_ax = True, cmap = 'Reds' )"
   ]
  },
  {
   "cell_type": "code",
   "execution_count": null,
   "id": "35a929ed-c536-4075-95d6-cd010f6bc11c",
   "metadata": {},
   "outputs": [],
   "source": []
  },
  {
   "cell_type": "code",
   "execution_count": null,
   "id": "4eeacb4a-218b-4bae-ba9e-c45adcf0cbb8",
   "metadata": {},
   "outputs": [],
   "source": [
    "## 특정 target cell이 포함된 interaction들만 확인함. (모든 CCI를 다 보려면 target_cells을 []로 설정)\n",
    "target_cells = ['Epithelial cell']\n",
    "target_genes = []\n",
    "\n",
    "## 각 샘플별(조건별)로 CCI 확인\n",
    "## p-value, cci mean의 cutoff을 설정하고 그 조건에 맞는 모든 상호작용을 표시\n",
    "for g in df_dct.keys():\n",
    "    \n",
    "    dfv = df_dct[g]\n",
    "    ax = plot_cci_dot( dfv, n_gene_pairs = None, \n",
    "                       pval_cutoff = 0.01, mean_cutoff = 0.3,\n",
    "                       target_cells = target_cells, target_genes = target_genes,\n",
    "                       title = 'CPDB result for %s' % g, title_fs = 12, \n",
    "                       legend_fs = 9, legend_mkr_sz = 9, \n",
    "                       tick_fs = 9, xtick_rot = 90, xtick_ha = 'center',\n",
    "                       dpi = 80, swap_ax = True, cmap = 'Reds' )"
   ]
  },
  {
   "cell_type": "markdown",
   "id": "73f00a6a-cce2-4e92-9a46-039ac376a2fb",
   "metadata": {},
   "source": [
    "#### __CCI mean difference between conditions__\n",
    "샘플별 CCI 결과에서 모든 샘플에서 공통적으로 확인된 CCI를 골라서 \\\n",
    "각 조건별로 상호작용의 강도간 유의한 차이가 있는지 확인할 수 있음"
   ]
  },
  {
   "cell_type": "code",
   "execution_count": null,
   "id": "ec3e773f-452c-499e-b1c0-3c0232943099",
   "metadata": {},
   "outputs": [],
   "source": [
    "cci_df_dct = adata_t.uns['CCI_sample']\n",
    "\n",
    "## mean 값을 가져오된 pval가 cutoff 보다 작은 것들만 가져옴\n",
    "df = get_cci_means( cci_df_dct, cci_idx_lst = None, \n",
    "                    cells = ['Epithelial cell'], genes = [], pval_cutoff = 0.05 )\n",
    "## cci_idx_lst를 None으로 설정하면 cci_df_dct에 있는 모든 CCI들의 union에 대한 결과를 리턴함 (pval_cutoff은 적용됨)\n",
    "## 리턴 결과가 0인 것은 해당 샘플에서 해당 CCI가 검출되지 않은 것임.\n",
    "\n",
    "df_res = test_group_diff( df, sample_group_map, ref_group = None, pval_cutoff = 0.05 )\n",
    "df_res"
   ]
  },
  {
   "cell_type": "code",
   "execution_count": null,
   "id": "5db314a4-0693-4892-ae4b-f1e0ea48b355",
   "metadata": {},
   "outputs": [],
   "source": [
    "## 표시할 결과 항목을 선택: 앞에서 4개만 \n",
    "idx_sel = df_res.index.values[:4].tolist()\n",
    "df_sel = df[idx_sel].copy(deep = True)\n",
    "\n",
    "## index 이름에서 '--'를 '\\n'로 대체 \n",
    "idx_org = list(df_sel.columns.values)\n",
    "idx_new = [s.replace('--', '\\n') for s in idx_org]\n",
    "rend = dict(zip(idx_org, idx_new))\n",
    "df_sel = df_sel.rename(columns = rend)\n",
    "\n",
    "## Show the selected CCIs\n",
    "plot_pct_box(df_sel, sample_group_map, ylabel = 'cci_mean', \n",
    "             ncols = 4, figsize = (3,3), dpi = 100,\n",
    "             title = None, title_y_pos = 1.05, title_fs = 12, \n",
    "             label_fs = 11, tick_fs = 10, tick_rot = 0, \n",
    "             annot_ref = None, annot_fmt = 'simple', annot_fs = 10, \n",
    "             ws_hs = (0.2, 0.2), stripplot = True)"
   ]
  },
  {
   "cell_type": "markdown",
   "id": "43aeb527",
   "metadata": {},
   "source": [
    "### __DEG 분석결과__ \n",
    "- DEG 결과는 각 세포 유형별로 처리되어 저장됨\n",
    "- major, minor, subset 중 어느 수준을 기준으로 할지는 analysis_parameters에서 정의 할 수 있음\n",
    "- 현재의 결과는 celltype_minor 기준으로 세포 유형별로 condition-specific DEG를 얻은 결과 임."
   ]
  },
  {
   "cell_type": "code",
   "execution_count": null,
   "id": "0e3c7cfb",
   "metadata": {},
   "outputs": [],
   "source": [
    "nc_deg_dct = adata_t.uns['DEG_stat'] ## DEG 분석에 사용된 셀수 정보\n",
    "df_deg_dct = adata_t.uns['DEG'] ## DEG 분석 결과\n",
    "\n",
    "## 어떤 세포 유형들에 대한 DEG 결과가 있는지 확인 \n",
    "df_deg_dct.keys()\n",
    "\n",
    "## analysis_parameters에 정의한 DEG분석을 위한 최소 셀수(MIN_NUM_CELLS_FOR_DEG)보다 \n",
    "## 적은 셀수를 갖는 세포 유형에 대해서는 DEG 분석이 수행 되지 않음. \n",
    "## (각 조건 별로 해당 유형의 셀수가 최소한 MIN_NUM_CELLS_FOR_DEG 정도되어야 DEG 분석이 수행됨)"
   ]
  },
  {
   "attachments": {
    "9ee05def-76ae-4d9f-961c-3c9e9872b6ce.png": {
     "image/png": "[encoded data removed]"
    }
   },
   "cell_type": "markdown",
   "id": "04dfb0b8-e01a-4ad5-ab06-53e017f3ecff",
   "metadata": {},
   "source": [
    "<div>\n",
    "<img src=attachment:9ee05def-76ae-4d9f-961c-3c9e9872b6ce.png width=\"500\"/>   \n",
    "</div>"
   ]
  },
  {
   "cell_type": "code",
   "execution_count": null,
   "id": "ae71980a",
   "metadata": {},
   "outputs": [],
   "source": [
    "## 특정 세포 유형에 대한 DEG 분석 결과를 가져옴 (이경우 Epithelial cell)\n",
    "target_cell = 'Epithelial cell'\n",
    "\n",
    "df_deg = df_deg_dct[target_cell]\n",
    "nc_deg = nc_deg_dct[target_cell]\n",
    "\n",
    "## 해당 세포 유형에 사용된 조건 별 셀수 확인\n",
    "nc_deg"
   ]
  },
  {
   "cell_type": "code",
   "execution_count": null,
   "id": "28d369f2",
   "metadata": {},
   "outputs": [],
   "source": [
    "df_deg['ER+_vs_others'].head()\n",
    "## Rp는 해당 조건의 샘플중에서 해당 유전자가 minimun fraction이상 발현된 샘플의 비율임"
   ]
  },
  {
   "cell_type": "markdown",
   "id": "4a769eae-396b-4ec2-93b8-2ee26e7d7297",
   "metadata": {},
   "source": [
    "- nz_pct_score = nz_pct_test*(1-nz_pct_ref)\n",
    "- nz_pct_test: percentage of cells with the gene expressed in test group\n",
    "- nz_pct_ref: percentage of cells with the gene expressed in reference group"
   ]
  },
  {
   "cell_type": "code",
   "execution_count": null,
   "id": "3db95d36",
   "metadata": {},
   "outputs": [],
   "source": [
    "n_genes_to_show = 30\n",
    "\n",
    "for key in df_deg_dct.keys():\n",
    "    df_deg = df_deg_dct[key]\n",
    "\n",
    "    print(key)\n",
    "    plot_deg( df_deg, reference = 'nz_pct_score', \n",
    "              n_genes_to_show = n_genes_to_show, pval_cutoff = 0.05, \n",
    "              figsize = (3.3,2), text_fs = 6.5, title_fs = 9, label_fs = 8, \n",
    "              tick_fs = 8, ncols = 3, wspace = 0.2, hspace = 0.2, \n",
    "              deg_stat_dct = nc_deg, show_log_pv = False )\n"
   ]
  },
  {
   "cell_type": "code",
   "execution_count": null,
   "id": "162b5f33-d19e-408e-9f71-c14040a98e83",
   "metadata": {},
   "outputs": [],
   "source": []
  },
  {
   "cell_type": "markdown",
   "id": "ebbf3b37",
   "metadata": {},
   "source": [
    "### __Discovery of condition-specific markers (per minor celltype)__"
   ]
  },
  {
   "cell_type": "code",
   "execution_count": null,
   "id": "a9d79ded-7826-4580-a529-f0ec8339983a",
   "metadata": {},
   "outputs": [],
   "source": [
    "nc_deg_dct = adata_t.uns['DEG_stat']\n",
    "df_deg_dct = adata_t.uns['DEG']\n",
    "df_deg_dct.keys()"
   ]
  },
  {
   "cell_type": "code",
   "execution_count": null,
   "id": "c32594b4",
   "metadata": {},
   "outputs": [],
   "source": [
    "## Select celltype to explore\n",
    "target_cell, ref_col = 'Epithelial cell', 'celltype_minor'\n",
    "# target_cell, ref_col = 'Macrophage', 'celltype_minor'\n",
    "# target_cell, ref_col = 'Fibroblast', 'celltype_minor'\n",
    "\n",
    "df_deg = df_deg_dct[target_cell]\n",
    "nc_deg = nc_deg_dct[target_cell]\n",
    "\n",
    "subtype_mkr_dict = get_markers_from_deg( df_deg, N_mkrs = 30, ref_col = 'nz_pct_score', \n",
    "                                         nz_pct_test_min = 0.5, \n",
    "                                         nz_pct_ref_max = 0.4, \n",
    "                                         rem_common = False )\n",
    "\n",
    "## Print results   \n",
    "for key in subtype_mkr_dict.keys():\n",
    "    subtype_mkr_dict[key].sort()\n",
    "    print('%s (%i): ' % (key, len(subtype_mkr_dict[key])), subtype_mkr_dict[key])        \n"
   ]
  },
  {
   "cell_type": "code",
   "execution_count": null,
   "id": "3e3ab200",
   "metadata": {},
   "outputs": [],
   "source": [
    "adata_s = adata_t[:,:]\n",
    "\n",
    "## UMAP with celltype annotation, sample, condition\n",
    "sc.pp.normalize_total(adata_s, target_sum=1e4)\n",
    "sc.pp.log1p(adata_s)\n",
    "\n",
    "## Select the target cells\n",
    "b = adata_s.obs[ref_col] == target_cell\n",
    "adata_s = adata_s[b,:]\n",
    "\n",
    "cond_col = 'condition'\n",
    "group_col = 'sample_rev'\n",
    "\n",
    "## Select samples with its No. of cells greater than 40\n",
    "pcnt = adata_s.obs[group_col].value_counts()\n",
    "b = pcnt >= 20\n",
    "plst = list(pcnt.index.values[b])\n",
    "\n",
    "# display(pcnt[plst])\n",
    "print('N_samples: ', len(plst), 'ave. N_cells: ', pcnt[plst].mean())\n",
    "\n",
    "b = adata_s.obs[group_col].isin(plst)\n",
    "adata_ss = adata_s[b,:]\n",
    "\n",
    "title = 'marker expression profile (%s)' % target_cell\n",
    "plot_marker_exp(  adata_ss, markers = subtype_mkr_dict, \n",
    "                  var_group_col = cond_col, group_col = group_col, \n",
    "                  title = title, title_y_pos = 1.2, title_fs = 16, \n",
    "                  text_fs = 10, linewidth = 1.5, standard_scale = 'var', \n",
    "                  var_group_rotation = 0, var_group_height = 1.2, \n",
    "                  nz_frac_max = 0.7, nz_frac_cutoff = 0.05, \n",
    "                  rem_mkrs_common_in_N_groups_or_more = 0, N_cells_min = 20,\n",
    "                  N_markers_per_group_max = 18, N_markers_total = 200, \n",
    "                  figsize = (16,2), swap_ax = False, legend = True)"
   ]
  },
  {
   "cell_type": "code",
   "execution_count": null,
   "id": "35dc425a-aa81-47eb-a60e-9267be3327c3",
   "metadata": {},
   "outputs": [],
   "source": [
    "for k, key in enumerate(list(subtype_mkr_dict.keys())):\n",
    "    items_to_plot = subtype_mkr_dict[key]\n",
    "    sc.pl.stacked_violin(adata_ss, items_to_plot, groupby= 'sample_rev', \n",
    "                         title = '%s markers' % key, rotation=90, \n",
    "                         swap_axes = False, figsize = (8,2))\n",
    "plt.show()"
   ]
  },
  {
   "cell_type": "markdown",
   "id": "7e1f9b86-b8e7-4364-9cc0-2bd5560f890b",
   "metadata": {},
   "source": [
    "#### 특정 마커들에 대한 violin plot 확인"
   ]
  },
  {
   "cell_type": "code",
   "execution_count": null,
   "id": "a5837296-77c7-4b8f-8a19-3b542a8cb3b7",
   "metadata": {},
   "outputs": [],
   "source": [
    "items_to_plot = ['ESR1', 'ERBB2', 'AIM1', 'ATG5', 'DSC2', 'DEK']\n",
    "\n",
    "df = adata_ss[:, items_to_plot].to_df()\n",
    "df['group'] = adata_ss.obs['condition']\n",
    "plot_violin( df, genes_lst = items_to_plot, group_col = 'group', scale = 'width', \n",
    "             group_order = None, inner = 'box', width = 0.9, linewidth = 0.3, bw = 'scott', \n",
    "             figsize = (2.5,2), text_fs = 10, title = None, title_fs = 14, title_y_pos = 1, \n",
    "             label_fs = 11, tick_fs = 10, tick_rot = 0, tick_ha = 'center', \n",
    "             ncols = 3, wspace = 0.2, hspace = 0.4 )"
   ]
  },
  {
   "cell_type": "code",
   "execution_count": null,
   "id": "01582cb0-0610-4c74-87e5-9ccaf8e62455",
   "metadata": {},
   "outputs": [],
   "source": [
    "df_all = get_gene_expression_mean( adata_ss, genes = [], group_col = 'sample_rev' )\n",
    "\n",
    "sample_group_map = adata_t.uns['lut_sample_to_cond']\n",
    "\n",
    "df_res = test_group_diff( df_all, sample_group_map, \n",
    "                          ref_group = None, pval_cutoff = 0.05 )\n",
    "\n",
    "df_res"
   ]
  },
  {
   "cell_type": "code",
   "execution_count": null,
   "id": "c62f5dcb-6973-4f4c-85be-837f8c916a7d",
   "metadata": {},
   "outputs": [],
   "source": [
    "df_sel = get_gene_expression_mean( adata_ss, genes = items_to_plot, \n",
    "                              group_col = 'sample_rev' )\n",
    "\n",
    "## Show the first 5 CCIs\n",
    "plot_pct_box(df_sel, sample_group_map, ylabel = 'cci_mean', \n",
    "             ncols = 3, figsize = (3,3), dpi = 100,\n",
    "             title = None, title_y_pos = 1.05, title_fs = 12, \n",
    "             label_fs = 11, tick_fs = 10, tick_rot = 0, \n",
    "             annot_ref = None, annot_fmt = 'simple', annot_fs = 10, \n",
    "             ws_hs = (0.2, 0.2), stripplot = True)"
   ]
  },
  {
   "cell_type": "markdown",
   "id": "1359dedf",
   "metadata": {},
   "source": [
    "### __GSA 분석결과__"
   ]
  },
  {
   "cell_type": "code",
   "execution_count": null,
   "id": "ae779e30",
   "metadata": {},
   "outputs": [],
   "source": [
    "gsa_res_up = adata_t.uns['GSA_up']\n",
    "gsa_res_dn = adata_t.uns['GSA_down']\n",
    "\n",
    "gsa_res_up.keys()"
   ]
  },
  {
   "attachments": {
    "17f8be31-7f23-4fa2-9bea-7062ed9f9ff7.png": {
     "image/png": "[encoded data removed]"
    }
   },
   "cell_type": "markdown",
   "id": "8d6d0f61-7ad8-4940-bdf2-75b825aa4ea8",
   "metadata": {},
   "source": [
    "<div>\n",
    "<img src=attachment:17f8be31-7f23-4fa2-9bea-7062ed9f9ff7.png width=\"500\"/>   \n",
    "</div>"
   ]
  },
  {
   "cell_type": "code",
   "execution_count": null,
   "id": "1b532de4-d8b1-45dd-ad5e-e5fef67d2564",
   "metadata": {},
   "outputs": [],
   "source": [
    "gsa_res = gsa_res_up\n",
    "target_cell = 'Epithelial cell'\n",
    "\n",
    "gsa_keys = list(gsa_res[target_cell].keys())\n",
    "display(gsa_keys)"
   ]
  },
  {
   "cell_type": "code",
   "execution_count": null,
   "id": "6d1a4ae3-439d-4998-9349-54b70fe4c8be",
   "metadata": {},
   "outputs": [],
   "source": [
    "## GSA 결과의 포맷 확인\n",
    "gsa_res[target_cell][gsa_keys[0]].head()"
   ]
  },
  {
   "cell_type": "markdown",
   "id": "c8b9d099-b348-4b70-a3dc-1cb08a2d49dc",
   "metadata": {},
   "source": [
    "#### __특정 세포 유형에 대한 GSA 결과 확인__"
   ]
  },
  {
   "cell_type": "code",
   "execution_count": null,
   "id": "fb14a0c6",
   "metadata": {},
   "outputs": [],
   "source": [
    "target_cell = 'Epithelial cell'\n",
    "\n",
    "items_to_plot = ['-log(p-val)', '-log(q-val)'] \n",
    "lims = [[0, 10], [0, 10]] \n",
    "N_max_to_show = 20\n",
    "neg_log_p_cutoff = 2 ## p-value cutoff = 0.01\n",
    "\n",
    "for target_cond in gsa_keys:\n",
    "    \n",
    "    df_res_gsa = gsa_res[target_cell][target_cond]\n",
    "    \n",
    "    ## GSA 결과의 포맷 확인\n",
    "    display(df_res_gsa.drop(columns = ['genes', 'Term']).head())\n",
    "\n",
    "    ## p-value cutoff 조건에 맞는 term들만 선택\n",
    "    df_res = df_res_gsa.copy(deep = True)\n",
    "    df_res = df_res.loc[df_res['-log(p-val)'] >= neg_log_p_cutoff ]\n",
    "    df_res = df_res.sort_values(by = '-log(p-val)', ascending = False).iloc[:min(df_res.shape[0], N_max_to_show)]\n",
    "    terms_sel = list(df_res.index.values)\n",
    "    \n",
    "    plot_gsa_bar( df_res, terms_sel, items_to_plot, lims, \n",
    "                  title = '%s: %s' % (target_cell, target_cond), \n",
    "                  title_pos = (0.5, 1), title_fs = 12, title_ha = 'center',\n",
    "                  label_fs = 10, tick_fs = 8, wspace=0.1, hspace=0.25, Ax = None)"
   ]
  },
  {
   "cell_type": "markdown",
   "id": "2fcb6f0b",
   "metadata": {},
   "source": [
    "#### __Dot plot으로 GSA 결과 요약__"
   ]
  },
  {
   "cell_type": "code",
   "execution_count": null,
   "id": "eed38a8b",
   "metadata": {},
   "outputs": [],
   "source": [
    "gsa_res = adata_t.uns['GSA_up']\n",
    "gsa_res.keys()"
   ]
  },
  {
   "cell_type": "code",
   "execution_count": null,
   "id": "c5751c28-f22f-4992-bb3a-151e5688413c",
   "metadata": {},
   "outputs": [],
   "source": [
    "neg_log_p_cutoff = 5\n",
    "\n",
    "key = 'Epithelial cell' \n",
    "gsa_res_t = {key: filter_gsa_result( gsa_res[key], neg_log_p_cutoff )}\n",
    "\n",
    "plot_gsa_dot( gsa_res_t, title = 'GSA(up) summary', title_fs = 12, \n",
    "              tick_fs = 8, xtick_rot = 90, xtick_ha = 'center',\n",
    "              label_fs = 9, legend_fs = 9, swap_ax = True, \n",
    "              dot_size = 40, cbar_frac = 0.15, cbar_gap = 0.2 )"
   ]
  },
  {
   "cell_type": "code",
   "execution_count": null,
   "id": "989b6c2d",
   "metadata": {},
   "outputs": [],
   "source": [
    "neg_log_p_cutoff = 5\n",
    "\n",
    "gsa_res_t = {}\n",
    "for key in gsa_res.keys():\n",
    "    gsa_res_t[key] = filter_gsa_result( gsa_res[key], neg_log_p_cutoff )\n",
    "\n",
    "plot_gsa_dot( gsa_res_t, title = 'GSA(up) summary', title_fs = 12, \n",
    "              tick_fs = 9, xtick_rot = 90, xtick_ha = 'center',\n",
    "              label_fs = 9, legend_fs = 9, swap_ax = False, \n",
    "              dot_size = 40, cbar_frac = 0.05, cbar_gap = 0.05 )"
   ]
  },
  {
   "cell_type": "code",
   "execution_count": null,
   "id": "d0d04571",
   "metadata": {},
   "outputs": [],
   "source": []
  },
  {
   "cell_type": "markdown",
   "id": "1f6bbaaa-031c-4122-9c83-4e8443df6e33",
   "metadata": {},
   "source": [
    "### __GSEA 분석결과__"
   ]
  },
  {
   "cell_type": "code",
   "execution_count": null,
   "id": "912003b2",
   "metadata": {},
   "outputs": [],
   "source": [
    "gsea_res = adata_t.uns['GSEA']\n",
    "gsea_res.keys()"
   ]
  },
  {
   "cell_type": "code",
   "execution_count": null,
   "id": "c0656cc2-406c-414c-8881-c6dbf2c4d375",
   "metadata": {},
   "outputs": [],
   "source": [
    "target_cell = 'Epithelial cell'\n",
    "\n",
    "gsea_keys = list(gsea_res[target_cell].keys())\n",
    "display(gsea_keys)"
   ]
  },
  {
   "cell_type": "markdown",
   "id": "c457072e-8c66-42a1-9201-cfaa3029b5e5",
   "metadata": {},
   "source": [
    "#### __특정 세포 유형에 대한 GSEA 결과 확인__"
   ]
  },
  {
   "cell_type": "code",
   "execution_count": null,
   "id": "f3adc497-4bfd-4a1a-a075-ad89069ec749",
   "metadata": {},
   "outputs": [],
   "source": [
    "target_cell = 'Epithelial cell'\n",
    "gsea_keys = list(gsea_res[target_cell].keys())\n",
    "\n",
    "items_to_plot = ['-log(p-val)', 'NES', '-log(q-val)'] \n",
    "lims = [[0, 10], [-5, 5],  [0, 10]] \n",
    "N_max_to_show = 30\n",
    "neg_log_p_cutoff = 1\n",
    "nes_cutoff = 0 ## selec those with NES > 0\n",
    "\n",
    "\n",
    "for target_cond in gsea_keys:\n",
    "    df_res_gsa = gsea_res[target_cell][target_cond]\n",
    "    display(df_res_gsa.drop(columns = ['Lead_genes', 'Term']).head())\n",
    "    \n",
    "    df_res = df_res_gsa.copy(deep = True)\n",
    "    df_res = df_res.loc[df_res['-log(p-val)'] >= neg_log_p_cutoff ]\n",
    "    df_res = df_res.loc[df_res['NES'] >= nes_cutoff ]\n",
    "    df_res = df_res.sort_values(by = '-log(p-val)', ascending = False).iloc[:min(df_res.shape[0], N_max_to_show)]\n",
    "    terms_sel = list(df_res.index.values)\n",
    "\n",
    "    if len(terms_sel) > 0:\n",
    "        plot_gsa_bar( df_res, terms_sel, items_to_plot, lims, \n",
    "                  title = target_cond, title_pos = (0.5, 1), title_fs = 12, title_ha = 'center',\n",
    "                  label_fs = 10, tick_fs = 8, wspace=0.1, hspace=0.25, Ax = None)"
   ]
  },
  {
   "cell_type": "markdown",
   "id": "67372896-953f-4d7d-806e-a66f26de3fcc",
   "metadata": {},
   "source": [
    "#### __Dot plot으로 GSEA 결과 요약__"
   ]
  },
  {
   "cell_type": "code",
   "execution_count": null,
   "id": "e1b59c97-2af0-4f2c-ade8-2bbbf4375520",
   "metadata": {},
   "outputs": [],
   "source": [
    "neg_log_p_cutoff = 1\n",
    "\n",
    "gsea_res_t = {}\n",
    "key = 'Epithelial cell'\n",
    "gsea_res_t = {key: filter_gsa_result( gsea_res[key], neg_log_p_cutoff )}\n",
    "\n",
    "plot_gsa_dot( gsea_res_t, title = 'GSEA summary', title_fs = 16, \n",
    "              tick_fs = 9, xtick_rot = 90, xtick_ha = 'center',\n",
    "              label_fs = 10, legend_fs = 10, swap_ax = True, \n",
    "              dot_size = 40, cbar_frac = 0.1, cbar_gap = 0.2 )"
   ]
  },
  {
   "cell_type": "code",
   "execution_count": null,
   "id": "35b05dec-0d48-4d60-8cff-8b358d133050",
   "metadata": {},
   "outputs": [],
   "source": [
    "neg_log_p_cutoff = 2\n",
    "\n",
    "gsea_res_t = {}\n",
    "for key in gsea_res.keys():\n",
    "    gsea_res_t[key] = filter_gsa_result( gsea_res[key], neg_log_p_cutoff )\n",
    "\n",
    "plot_gsa_dot( gsea_res_t, title = 'GSEA summary', title_fs = 16, \n",
    "              tick_fs = 9, xtick_rot = 90, xtick_ha = 'center',\n",
    "              label_fs = 10, legend_fs = 10, swap_ax = False, \n",
    "              dot_size = 40, cbar_frac = 0.04, \n",
    "              cbar_gap = 0.05 )"
   ]
  },
  {
   "cell_type": "code",
   "execution_count": null,
   "id": "571404ce-7247-44fd-aa75-5624435c6571",
   "metadata": {},
   "outputs": [],
   "source": []
  }
 ],
 "metadata": {
  "kernelspec": {
   "display_name": "Python 3 (ipykernel)",
   "language": "python",
   "name": "python3"
  },
  "language_info": {
   "codemirror_mode": {
    "name": "ipython",
    "version": 3
   },
   "file_extension": ".py",
   "mimetype": "text/x-python",
   "name": "python",
   "nbconvert_exporter": "python",
   "pygments_lexer": "ipython3",
   "version": "3.9.18"
  }
 },
 "nbformat": 4,
 "nbformat_minor": 5
}
